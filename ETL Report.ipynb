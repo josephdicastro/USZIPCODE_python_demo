{
 "cells": [
  {
   "cell_type": "markdown",
   "metadata": {},
   "source": [
    "# ETL Report\n"
   ]
  },
  {
   "cell_type": "markdown",
   "metadata": {},
   "source": [
    "This project investigates AirBNB housing prices by zipcode, using two data sources:\n",
    "1. A csv of NYC AirBNB listings found on Kaggle. This CSV lists the lat, lng of the individual AirBNB, but not the associated zipcode.\n",
    "2. A library call to the python USZIPCODE library that performs a geolookup from the AirBNB lat and lngs to get the associated zipcode.\n",
    "    - This library call retrieives an object that contains demographic data about the zipcode as well. \n",
    "    "
   ]
  },
  {
   "cell_type": "markdown",
   "metadata": {},
   "source": [
    "## Data Collection & Data Cleaning"
   ]
  },
  {
   "cell_type": "markdown",
   "metadata": {},
   "source": [
    "1. The first step in the process was downloading the AirBNB dataset from Kaggle. \n",
    "2. We read this into a pandas dataframe. The resulting df contained 48,895 listings. \n",
    "3. We filtered that df to only include listings that had 25 or greater reviews. This gave us a dataset with 11617 listings. \n",
    "4. Once we had our base dataset, we needed to perform geocode lookups.\n",
    "    - The AirBNB dataset only had lat & lng coordinates.\n",
    "    - To get the associated zipcode, we wrote a function to perform a coordinate lookup from the AirBNB file to the USZIPCODE library, which returned a result set that included the zipcode and a number of demographic data associated with that zipcode. \n",
    "    - We stored the entire zipcode_object as a dictionary in a new column within each row, which gave us the complete zip and demographic data for each listing. \n",
    "    - We wrote another function to pull out particular bits of information from the entire zipcode result set\n",
    "        - zipcode\n",
    "        - Median Home Value \n",
    "        - Median Household Income \n",
    "    - We could pull out lots of other information if we wanted to expand our analysis. \n",
    "5. After we run both the zipcode_obj retrieval function and the individual key-value lookups, we stored the resulting dataframe in PostgreSQL \n",
    "6. Because the zipcode_obj was stored as a dictionary, we had to tell sql_alchemy to treat that column as a JSON datatype so that it could properly insert the column into Postgre."
   ]
  },
  {
   "cell_type": "markdown",
   "metadata": {},
   "source": [
    "## Possible Reports"
   ]
  },
  {
   "cell_type": "markdown",
   "metadata": {},
   "source": [
    "1. This dataset will allows to run a series of reports on AirBNB data:\n",
    "    - Min, Max, Avg Value of AirBNB listings by Zipcode\n",
    "        - This can be further broken down into separate categories: \n",
    "            - Entire Home\n",
    "            - Private Room\n",
    "            - Shared Room \n",
    "    - We can compare the AirBNB summary statistics vs median home value and median household income per zipcode to look for correlations and discrepencies between them\n",
    "    - Having stored the entire USZIPCODE result set for each list, we could expand our relationship to look at other variables, such as population density"
   ]
  },
  {
   "cell_type": "code",
   "execution_count": null,
   "metadata": {},
   "outputs": [],
   "source": []
  }
 ],
 "metadata": {
  "kernelspec": {
   "display_name": "Python 3",
   "language": "python",
   "name": "python3"
  },
  "language_info": {
   "codemirror_mode": {
    "name": "ipython",
    "version": 3
   },
   "file_extension": ".py",
   "mimetype": "text/x-python",
   "name": "python",
   "nbconvert_exporter": "python",
   "pygments_lexer": "ipython3",
   "version": "3.6.9"
  },
  "varInspector": {
   "cols": {
    "lenName": 16,
    "lenType": 16,
    "lenVar": 40
   },
   "kernels_config": {
    "python": {
     "delete_cmd_postfix": "",
     "delete_cmd_prefix": "del ",
     "library": "var_list.py",
     "varRefreshCmd": "print(var_dic_list())"
    },
    "r": {
     "delete_cmd_postfix": ") ",
     "delete_cmd_prefix": "rm(",
     "library": "var_list.r",
     "varRefreshCmd": "cat(var_dic_list()) "
    }
   },
   "types_to_exclude": [
    "module",
    "function",
    "builtin_function_or_method",
    "instance",
    "_Feature"
   ],
   "window_display": false
  }
 },
 "nbformat": 4,
 "nbformat_minor": 2
}
